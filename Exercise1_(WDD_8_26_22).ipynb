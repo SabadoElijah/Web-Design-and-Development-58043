{
  "nbformat": 4,
  "nbformat_minor": 0,
  "metadata": {
    "colab": {
      "name": "Exercise1 (WDD_8-26-22)",
      "provenance": [],
      "authorship_tag": "ABX9TyMXFk9gvlPLRKvl0iDKlOq0",
      "include_colab_link": true
    },
    "kernelspec": {
      "name": "python3",
      "display_name": "Python 3"
    },
    "language_info": {
      "name": "python"
    }
  },
  "cells": [
    {
      "cell_type": "markdown",
      "metadata": {
        "id": "view-in-github",
        "colab_type": "text"
      },
      "source": [
        "<a href=\"https://colab.research.google.com/github/SabadoElijah/Web-Design-and-Development-58043/blob/main/Exercise1_(WDD_8_26_22).ipynb\" target=\"_parent\"><img src=\"https://colab.research.google.com/assets/colab-badge.svg\" alt=\"Open In Colab\"/></a>"
      ]
    },
    {
      "cell_type": "code",
      "source": [
        "#program that computes the area of a circle given the choice of using diamater or radius\n",
        "\n",
        "while True:\n",
        "    q = input(\"Compute for the area of a Circle\\n Do you want to: \\n a) Enter radius. b) Enter diameter. [a/b]? : \")\n",
        "\n",
        "    if q == \"a\": #if user inputs \"a\", program will computer for the area using radius\n",
        "        pi = 3.14 #constant\n",
        "        r = float(input(\"Enter radius: \")) #asks the user for input\n",
        "        area = pi*(r*r) #computes for the area of the circle (radius)\n",
        "        print(\"Area of the circle (based on radius): %.3f\" %area)\n",
        "        break\n",
        "    elif q == \"b\": #if user inputs \"b\", program will compute for the area using diameter\n",
        "        pi = 3.14 #constant\n",
        "        d = float(input(\"Enter diameter: \")) #asks the user for input\n",
        "        area1 = (pi*(d*d))/4 #computes for the area of the circle (diameter)\n",
        "        print(\"Area of the circle (based on diameter): %.3f\" %area1)\n",
        "        break"
      ],
      "metadata": {
        "colab": {
          "base_uri": "https://localhost:8080/"
        },
        "id": "fcQZUqFatcEf",
        "outputId": "1baccf4e-c0e2-48e5-d1a1-4baae542c0a2"
      },
      "execution_count": 18,
      "outputs": [
        {
          "output_type": "stream",
          "name": "stdout",
          "text": [
            "Compute for the area of a Circle\n",
            " Do you want to: \n",
            " a) Enter radius. b) Enter diameter. [a/b]? : b\n",
            "Enter diameter: 6\n",
            "Area of the circle (based on diameter): 28.260\n"
          ]
        }
      ]
    }
  ]
}