{
  "nbformat": 4,
  "nbformat_minor": 0,
  "metadata": {
    "colab": {
      "name": "Exercise1 (WDD_8-26-22)",
      "provenance": [],
      "authorship_tag": "ABX9TyMldqY5SuhIwgnsLLBq7d+I",
      "include_colab_link": true
    },
    "kernelspec": {
      "name": "python3",
      "display_name": "Python 3"
    },
    "language_info": {
      "name": "python"
    }
  },
  "cells": [
    {
      "cell_type": "markdown",
      "metadata": {
        "id": "view-in-github",
        "colab_type": "text"
      },
      "source": [
        "<a href=\"https://colab.research.google.com/github/jhiasab27/Web-Design-and-Development-58043/blob/main/Exercise1_(WDD_8_26_22).ipynb\" target=\"_parent\"><img src=\"https://colab.research.google.com/assets/colab-badge.svg\" alt=\"Open In Colab\"/></a>"
      ]
    },
    {
      "cell_type": "code",
      "execution_count": 1,
      "metadata": {
        "colab": {
          "base_uri": "https://localhost:8080/"
        },
        "id": "Ozy1VssNSzIt",
        "outputId": "96c935f2-9e8f-4d2e-b453-46b7e3f5ac2b"
      },
      "outputs": [
        {
          "output_type": "stream",
          "name": "stdout",
          "text": [
            "Enter circle's radius: 2\n",
            "Area of the circle: 12.56\n"
          ]
        }
      ],
      "source": [
        "#program that computes the area of a circle\n",
        "pi = 3.14\n",
        "r = float (input(\"Enter circle's radius: \"))\n",
        "area = pi*(r*r)\n",
        "print(\"Area of the circle: %.3f\" %area)"
      ]
    }
  ]
}